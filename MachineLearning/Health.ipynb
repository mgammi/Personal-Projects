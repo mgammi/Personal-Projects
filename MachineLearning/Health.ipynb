{
 "cells": [
  {
   "cell_type": "markdown",
   "metadata": {},
   "source": [
    "# Affordable Housing and Cost of Living Trends By County in Maryland"
   ]
  },
  {
   "cell_type": "markdown",
   "metadata": {},
   "source": [
    "## Importing Libraries"
   ]
  },
  {
   "cell_type": "code",
   "execution_count": 92,
   "metadata": {},
   "outputs": [],
   "source": [
    "import pandas as pd\n",
    "import numpy as np\n",
    "import matplotlib.pyplot as plt\n",
    "from sklearn.linear_model import LinearRegression\n",
    "import statsmodels.formula.api as smf\n",
    "from torch import nn\n",
    "\n",
    "from scipy import stats\n",
    "import statistics\n",
    "import sklearn.linear_model as slm\n",
    "import statsmodels.api as sm\n",
    "import warnings\n",
    "from sklearn.linear_model import Lasso\n",
    "from sklearn.model_selection import train_test_split\n",
    "from sklearn.metrics import mean_squared_error"
   ]
  },
  {
   "cell_type": "markdown",
   "metadata": {},
   "source": [
    "## Table 1"
   ]
  },
  {
   "cell_type": "code",
   "execution_count": 191,
   "metadata": {},
   "outputs": [
    {
     "name": "stdout",
     "output_type": "stream",
     "text": [
      "County                                      object\n",
      "Cost of Living Index                        object\n",
      "Average Sale Price of a Home ($ Dollars)    object\n",
      "Median Sale Price of a Home ($ Dollars)     object\n",
      "Number of Housing Units Sold                object\n",
      "dtype: object\n"
     ]
    },
    {
     "data": {
      "text/html": [
       "<div>\n",
       "<style scoped>\n",
       "    .dataframe tbody tr th:only-of-type {\n",
       "        vertical-align: middle;\n",
       "    }\n",
       "\n",
       "    .dataframe tbody tr th {\n",
       "        vertical-align: top;\n",
       "    }\n",
       "\n",
       "    .dataframe thead th {\n",
       "        text-align: right;\n",
       "    }\n",
       "</style>\n",
       "<table border=\"1\" class=\"dataframe\">\n",
       "  <thead>\n",
       "    <tr style=\"text-align: right;\">\n",
       "      <th></th>\n",
       "      <th>County</th>\n",
       "      <th>Cost of Living Index</th>\n",
       "      <th>Average Sale Price of a Home ($ Dollars)</th>\n",
       "      <th>Median Sale Price of a Home ($ Dollars)</th>\n",
       "      <th>Number of Housing Units Sold</th>\n",
       "    </tr>\n",
       "  </thead>\n",
       "  <tbody>\n",
       "    <tr>\n",
       "      <th>0</th>\n",
       "      <td>Allegany County</td>\n",
       "      <td>84.9</td>\n",
       "      <td>105707</td>\n",
       "      <td>90829</td>\n",
       "      <td>624</td>\n",
       "    </tr>\n",
       "    <tr>\n",
       "      <th>1</th>\n",
       "      <td>Anne Arundel County</td>\n",
       "      <td>119.6</td>\n",
       "      <td>400107</td>\n",
       "      <td>338287</td>\n",
       "      <td>8619</td>\n",
       "    </tr>\n",
       "    <tr>\n",
       "      <th>2</th>\n",
       "      <td>Baltimore City</td>\n",
       "      <td>101.3</td>\n",
       "      <td>173413</td>\n",
       "      <td>139723</td>\n",
       "      <td>8450</td>\n",
       "    </tr>\n",
       "    <tr>\n",
       "      <th>3</th>\n",
       "      <td>Baltimore County</td>\n",
       "      <td>109.9</td>\n",
       "      <td>281797</td>\n",
       "      <td>238426</td>\n",
       "      <td>9986</td>\n",
       "    </tr>\n",
       "    <tr>\n",
       "      <th>4</th>\n",
       "      <td>Calvert County</td>\n",
       "      <td>121.7</td>\n",
       "      <td>348891</td>\n",
       "      <td>318471</td>\n",
       "      <td>1576</td>\n",
       "    </tr>\n",
       "  </tbody>\n",
       "</table>\n",
       "</div>"
      ],
      "text/plain": [
       "                County Cost of Living Index  \\\n",
       "0      Allegany County                 84.9   \n",
       "1  Anne Arundel County                119.6   \n",
       "2       Baltimore City                101.3   \n",
       "3     Baltimore County                109.9   \n",
       "4       Calvert County                121.7   \n",
       "\n",
       "  Average Sale Price of a Home ($ Dollars)  \\\n",
       "0                                   105707   \n",
       "1                                   400107   \n",
       "2                                   173413   \n",
       "3                                   281797   \n",
       "4                                   348891   \n",
       "\n",
       "  Median Sale Price of a Home ($ Dollars) Number of Housing Units Sold  \n",
       "0                                   90829                          624  \n",
       "1                                  338287                         8619  \n",
       "2                                  139723                         8450  \n",
       "3                                  238426                         9986  \n",
       "4                                  318471                         1576  "
      ]
     },
     "execution_count": 191,
     "metadata": {},
     "output_type": "execute_result"
    }
   ],
   "source": [
    "table1 = pd.read_csv(\"QualityOfLife.csv\") # reading csv into variable\n",
    "print(table1.dtypes)                      # what are the types of each of the columns?\n",
    "table1.head()                             # lets get a visual of the table "
   ]
  },
  {
   "cell_type": "code",
   "execution_count": 192,
   "metadata": {},
   "outputs": [
    {
     "data": {
      "text/html": [
       "<div>\n",
       "<style scoped>\n",
       "    .dataframe tbody tr th:only-of-type {\n",
       "        vertical-align: middle;\n",
       "    }\n",
       "\n",
       "    .dataframe tbody tr th {\n",
       "        vertical-align: top;\n",
       "    }\n",
       "\n",
       "    .dataframe thead th {\n",
       "        text-align: right;\n",
       "    }\n",
       "</style>\n",
       "<table border=\"1\" class=\"dataframe\">\n",
       "  <thead>\n",
       "    <tr style=\"text-align: right;\">\n",
       "      <th></th>\n",
       "      <th>County</th>\n",
       "      <th>Cost of Living Index</th>\n",
       "      <th>Average Sale Price</th>\n",
       "      <th>Median Sale Price</th>\n",
       "      <th>Number of Units Sold</th>\n",
       "    </tr>\n",
       "  </thead>\n",
       "  <tbody>\n",
       "    <tr>\n",
       "      <th>0</th>\n",
       "      <td>Allegany County</td>\n",
       "      <td>84.9</td>\n",
       "      <td>105707</td>\n",
       "      <td>90829</td>\n",
       "      <td>624</td>\n",
       "    </tr>\n",
       "    <tr>\n",
       "      <th>1</th>\n",
       "      <td>Anne Arundel County</td>\n",
       "      <td>119.6</td>\n",
       "      <td>400107</td>\n",
       "      <td>338287</td>\n",
       "      <td>8619</td>\n",
       "    </tr>\n",
       "    <tr>\n",
       "      <th>2</th>\n",
       "      <td>Baltimore City</td>\n",
       "      <td>101.3</td>\n",
       "      <td>173413</td>\n",
       "      <td>139723</td>\n",
       "      <td>8450</td>\n",
       "    </tr>\n",
       "    <tr>\n",
       "      <th>3</th>\n",
       "      <td>Baltimore County</td>\n",
       "      <td>109.9</td>\n",
       "      <td>281797</td>\n",
       "      <td>238426</td>\n",
       "      <td>9986</td>\n",
       "    </tr>\n",
       "    <tr>\n",
       "      <th>4</th>\n",
       "      <td>Calvert County</td>\n",
       "      <td>121.7</td>\n",
       "      <td>348891</td>\n",
       "      <td>318471</td>\n",
       "      <td>1576</td>\n",
       "    </tr>\n",
       "  </tbody>\n",
       "</table>\n",
       "</div>"
      ],
      "text/plain": [
       "                County Cost of Living Index Average Sale Price  \\\n",
       "0      Allegany County                 84.9             105707   \n",
       "1  Anne Arundel County                119.6             400107   \n",
       "2       Baltimore City                101.3             173413   \n",
       "3     Baltimore County                109.9             281797   \n",
       "4       Calvert County                121.7             348891   \n",
       "\n",
       "  Median Sale Price Number of Units Sold  \n",
       "0             90829                  624  \n",
       "1            338287                 8619  \n",
       "2            139723                 8450  \n",
       "3            238426                 9986  \n",
       "4            318471                 1576  "
      ]
     },
     "execution_count": 192,
     "metadata": {},
     "output_type": "execute_result"
    }
   ],
   "source": [
    "# the names of the columns are long and redundant, so lets change them \n",
    "table1 = table1.rename(columns = {'Average Sale Price of a Home ($ Dollars)': 'Average Sale Price',\n",
    "                                    'Median Sale Price of a Home ($ Dollars)' : 'Median Sale Price',\n",
    "                                    'Number of Housing Units Sold' : 'Number of Units Sold'})\n",
    "                                   \n",
    "# \"housing\" doesnt need to be in the column headers in my opinion because the subject of the \n",
    "# columns is inferred by the table name and research topic\n",
    "\n",
    "# now we're going to drop rows 24-27 because they dont store numerical data (this woulc cause\n",
    "# problems later on when changubg types and performing analysis)\n",
    "table1 = table1.drop(index = [24,25, 26, 27])\n",
    "table1.head()"
   ]
  },
  {
   "cell_type": "code",
   "execution_count": 193,
   "metadata": {},
   "outputs": [
    {
     "name": "stdout",
     "output_type": "stream",
     "text": [
      "County                   object\n",
      "Cost of Living Index    float64\n",
      "Average Sale Price        int64\n",
      "Median Sale Price         int64\n",
      "Number of Units Sold      int64\n",
      "dtype: object\n"
     ]
    }
   ],
   "source": [
    "# to perform analytics and make visualizations of the data, numbers need to be ints or floats\n",
    "table1 = table1.astype({'Cost of Living Index': float, \n",
    "                        'Average Sale Price': int, \n",
    "                        'Median Sale Price': int, \n",
    "                        'Number of Units Sold' : int})\n",
    "\n",
    "# lets double check the changes\n",
    "print(table1.dtypes)"
   ]
  },
  {
   "cell_type": "code",
   "execution_count": 194,
   "metadata": {},
   "outputs": [
    {
     "data": {
      "text/html": [
       "<div>\n",
       "<style scoped>\n",
       "    .dataframe tbody tr th:only-of-type {\n",
       "        vertical-align: middle;\n",
       "    }\n",
       "\n",
       "    .dataframe tbody tr th {\n",
       "        vertical-align: top;\n",
       "    }\n",
       "\n",
       "    .dataframe thead th {\n",
       "        text-align: right;\n",
       "    }\n",
       "</style>\n",
       "<table border=\"1\" class=\"dataframe\">\n",
       "  <thead>\n",
       "    <tr style=\"text-align: right;\">\n",
       "      <th></th>\n",
       "      <th>County</th>\n",
       "      <th>Cost of Living Index</th>\n",
       "      <th>Average Sale Price</th>\n",
       "      <th>Median Sale Price</th>\n",
       "      <th>Number of Units Sold</th>\n",
       "    </tr>\n",
       "  </thead>\n",
       "  <tbody>\n",
       "    <tr>\n",
       "      <th>0</th>\n",
       "      <td>Allegany</td>\n",
       "      <td>84.9</td>\n",
       "      <td>105707</td>\n",
       "      <td>90829</td>\n",
       "      <td>624</td>\n",
       "    </tr>\n",
       "    <tr>\n",
       "      <th>1</th>\n",
       "      <td>Anne Arundel</td>\n",
       "      <td>119.6</td>\n",
       "      <td>400107</td>\n",
       "      <td>338287</td>\n",
       "      <td>8619</td>\n",
       "    </tr>\n",
       "    <tr>\n",
       "      <th>2</th>\n",
       "      <td>Baltimore City</td>\n",
       "      <td>101.3</td>\n",
       "      <td>173413</td>\n",
       "      <td>139723</td>\n",
       "      <td>8450</td>\n",
       "    </tr>\n",
       "    <tr>\n",
       "      <th>3</th>\n",
       "      <td>Baltimore County</td>\n",
       "      <td>109.9</td>\n",
       "      <td>281797</td>\n",
       "      <td>238426</td>\n",
       "      <td>9986</td>\n",
       "    </tr>\n",
       "    <tr>\n",
       "      <th>4</th>\n",
       "      <td>Calvert</td>\n",
       "      <td>121.7</td>\n",
       "      <td>348891</td>\n",
       "      <td>318471</td>\n",
       "      <td>1576</td>\n",
       "    </tr>\n",
       "  </tbody>\n",
       "</table>\n",
       "</div>"
      ],
      "text/plain": [
       "             County  Cost of Living Index  Average Sale Price  \\\n",
       "0          Allegany                  84.9              105707   \n",
       "1      Anne Arundel                 119.6              400107   \n",
       "2    Baltimore City                 101.3              173413   \n",
       "3  Baltimore County                 109.9              281797   \n",
       "4           Calvert                 121.7              348891   \n",
       "\n",
       "   Median Sale Price  Number of Units Sold  \n",
       "0              90829                   624  \n",
       "1             338287                  8619  \n",
       "2             139723                  8450  \n",
       "3             238426                  9986  \n",
       "4             318471                  1576  "
      ]
     },
     "execution_count": 194,
     "metadata": {},
     "output_type": "execute_result"
    }
   ],
   "source": [
    "# to synchronize naming with the next table, we're going to remove 'County' from the county names\n",
    "func = lambda elem : elem.replace('County', '').rstrip() if elem.split(' ')[0] != 'Baltimore' else elem\n",
    "table1['County'] = table1['County'].apply(func)\n",
    "table1.head()"
   ]
  },
  {
   "cell_type": "markdown",
   "metadata": {},
   "source": [
    "## Table 2"
   ]
  },
  {
   "cell_type": "code",
   "execution_count": 207,
   "metadata": {},
   "outputs": [
    {
     "data": {
      "text/html": [
       "<div>\n",
       "<style scoped>\n",
       "    .dataframe tbody tr th:only-of-type {\n",
       "        vertical-align: middle;\n",
       "    }\n",
       "\n",
       "    .dataframe tbody tr th {\n",
       "        vertical-align: top;\n",
       "    }\n",
       "\n",
       "    .dataframe thead th {\n",
       "        text-align: right;\n",
       "    }\n",
       "</style>\n",
       "<table border=\"1\" class=\"dataframe\">\n",
       "  <thead>\n",
       "    <tr style=\"text-align: right;\">\n",
       "      <th></th>\n",
       "      <th>Jurisdiction</th>\n",
       "      <th>Value</th>\n",
       "      <th>Race/ ethnicity</th>\n",
       "      <th>Year</th>\n",
       "      <th>Measure</th>\n",
       "    </tr>\n",
       "  </thead>\n",
       "  <tbody>\n",
       "    <tr>\n",
       "      <th>0</th>\n",
       "      <td>State</td>\n",
       "      <td>48.1</td>\n",
       "      <td>All races/ ethnicities (aggregated)</td>\n",
       "      <td>2016</td>\n",
       "      <td>Affordable Housing</td>\n",
       "    </tr>\n",
       "    <tr>\n",
       "      <th>1</th>\n",
       "      <td>Allegany</td>\n",
       "      <td>98.2</td>\n",
       "      <td>All races/ ethnicities (aggregated)</td>\n",
       "      <td>2016</td>\n",
       "      <td>Affordable Housing</td>\n",
       "    </tr>\n",
       "    <tr>\n",
       "      <th>2</th>\n",
       "      <td>Anne Arundel</td>\n",
       "      <td>28.5</td>\n",
       "      <td>All races/ ethnicities (aggregated)</td>\n",
       "      <td>2016</td>\n",
       "      <td>Affordable Housing</td>\n",
       "    </tr>\n",
       "    <tr>\n",
       "      <th>3</th>\n",
       "      <td>Baltimore City</td>\n",
       "      <td>76.4</td>\n",
       "      <td>All races/ ethnicities (aggregated)</td>\n",
       "      <td>2016</td>\n",
       "      <td>Affordable Housing</td>\n",
       "    </tr>\n",
       "    <tr>\n",
       "      <th>4</th>\n",
       "      <td>Baltimore County</td>\n",
       "      <td>64.1</td>\n",
       "      <td>All races/ ethnicities (aggregated)</td>\n",
       "      <td>2016</td>\n",
       "      <td>Affordable Housing</td>\n",
       "    </tr>\n",
       "  </tbody>\n",
       "</table>\n",
       "</div>"
      ],
      "text/plain": [
       "       Jurisdiction  Value                      Race/ ethnicity  Year  \\\n",
       "0             State   48.1  All races/ ethnicities (aggregated)  2016   \n",
       "1          Allegany   98.2  All races/ ethnicities (aggregated)  2016   \n",
       "2      Anne Arundel   28.5  All races/ ethnicities (aggregated)  2016   \n",
       "3    Baltimore City   76.4  All races/ ethnicities (aggregated)  2016   \n",
       "4  Baltimore County   64.1  All races/ ethnicities (aggregated)  2016   \n",
       "\n",
       "              Measure  \n",
       "0  Affordable Housing  \n",
       "1  Affordable Housing  \n",
       "2  Affordable Housing  \n",
       "3  Affordable Housing  \n",
       "4  Affordable Housing  "
      ]
     },
     "execution_count": 207,
     "metadata": {},
     "output_type": "execute_result"
    }
   ],
   "source": [
    "table2 = pd.read_csv(\"AffordableHousing.csv\") # reading csv into variable\n",
    "table2.head()"
   ]
  },
  {
   "cell_type": "code",
   "execution_count": 208,
   "metadata": {},
   "outputs": [
    {
     "data": {
      "text/html": [
       "<div>\n",
       "<style scoped>\n",
       "    .dataframe tbody tr th:only-of-type {\n",
       "        vertical-align: middle;\n",
       "    }\n",
       "\n",
       "    .dataframe tbody tr th {\n",
       "        vertical-align: top;\n",
       "    }\n",
       "\n",
       "    .dataframe thead th {\n",
       "        text-align: right;\n",
       "    }\n",
       "</style>\n",
       "<table border=\"1\" class=\"dataframe\">\n",
       "  <thead>\n",
       "    <tr style=\"text-align: right;\">\n",
       "      <th></th>\n",
       "      <th>Jurisdiction</th>\n",
       "      <th>Value</th>\n",
       "      <th>Year</th>\n",
       "    </tr>\n",
       "  </thead>\n",
       "  <tbody>\n",
       "    <tr>\n",
       "      <th>0</th>\n",
       "      <td>State</td>\n",
       "      <td>48.1</td>\n",
       "      <td>2016</td>\n",
       "    </tr>\n",
       "    <tr>\n",
       "      <th>1</th>\n",
       "      <td>Allegany</td>\n",
       "      <td>98.2</td>\n",
       "      <td>2016</td>\n",
       "    </tr>\n",
       "    <tr>\n",
       "      <th>2</th>\n",
       "      <td>Anne Arundel</td>\n",
       "      <td>28.5</td>\n",
       "      <td>2016</td>\n",
       "    </tr>\n",
       "    <tr>\n",
       "      <th>3</th>\n",
       "      <td>Baltimore City</td>\n",
       "      <td>76.4</td>\n",
       "      <td>2016</td>\n",
       "    </tr>\n",
       "    <tr>\n",
       "      <th>4</th>\n",
       "      <td>Baltimore County</td>\n",
       "      <td>64.1</td>\n",
       "      <td>2016</td>\n",
       "    </tr>\n",
       "  </tbody>\n",
       "</table>\n",
       "</div>"
      ],
      "text/plain": [
       "       Jurisdiction  Value  Year\n",
       "0             State   48.1  2016\n",
       "1          Allegany   98.2  2016\n",
       "2      Anne Arundel   28.5  2016\n",
       "3    Baltimore City   76.4  2016\n",
       "4  Baltimore County   64.1  2016"
      ]
     },
     "execution_count": 208,
     "metadata": {},
     "output_type": "execute_result"
    }
   ],
   "source": [
    "# lets remove the 2 columns that dont provide helpful/useful information\n",
    "table2 = table2.drop(columns = {\"Race/ ethnicity\", \"Measure\"}) \n",
    "table2.head()"
   ]
  },
  {
   "cell_type": "code",
   "execution_count": 209,
   "metadata": {},
   "outputs": [
    {
     "name": "stdout",
     "output_type": "stream",
     "text": [
      "Jurisdiction     object\n",
      "Value           float64\n",
      "Year              int64\n",
      "dtype: object\n"
     ]
    }
   ],
   "source": [
    "print(table2.dtypes) # are the types correct?"
   ]
  },
  {
   "cell_type": "code",
   "execution_count": 210,
   "metadata": {},
   "outputs": [
    {
     "name": "stderr",
     "output_type": "stream",
     "text": [
      "/var/folders/lr/g9f1s98d57ng3w8mp87nh60c0000gn/T/ipykernel_84533/237612901.py:8: FutureWarning: In a future version of pandas, a length 1 tuple will be returned when iterating over a groupby with a grouper equal to a list of length 1. Don't supply a list with a single grouper to avoid this warning.\n",
      "  for key, group in countiesDF:\n"
     ]
    },
    {
     "name": "stdout",
     "output_type": "stream",
     "text": [
      "[[97.19181818]\n",
      " [97.01818182]\n",
      " [96.84454545]\n",
      " [96.67090909]\n",
      " [96.49727273]\n",
      " [96.32363636]\n",
      " [96.15      ]\n",
      " [97.36545455]\n",
      " [97.53909091]\n",
      " [97.71272727]\n",
      " [97.88636364]]\n"
     ]
    }
   ],
   "source": [
    "# now we're going to create a new df that groups/organizes the data by county. \n",
    "# this will be helpful for visualization later on\n",
    "countiesDF = table2.groupby(['Jurisdiction']) \n",
    "\n",
    "# now, we're going to prefrom linear regression on each county, the predictions will be stored\n",
    "# in the dictionary below s.t. key -> county ; value -> [predications]\n",
    "pred = {}\n",
    "for key, group in countiesDF:\n",
    "        # pythons linear regression library requires changing an array's shape to (-1,1)\n",
    "        x         = group['Year'].to_numpy().reshape(-1,1)\n",
    "        y         = group['Value'].to_numpy().reshape(-1,1)\n",
    "        reg       = LinearRegression().fit(x , y)\n",
    "        y_pred    = reg.predict(x) \n",
    "        pred[key] = y_pred\n",
    "        \n",
    "        # alternatively, could use numpy's polyfit and calc mx+b at ploting time\n",
    "        #m,b         = np.polyfit(x, y, 1)\n",
    "        #pred[key] = [m,b]\n",
    "\n",
    "print(pred['Allegany']) # lets check that our dictionary is correct\n"
   ]
  },
  {
   "cell_type": "code",
   "execution_count": 211,
   "metadata": {},
   "outputs": [
    {
     "name": "stderr",
     "output_type": "stream",
     "text": [
      "/var/folders/lr/g9f1s98d57ng3w8mp87nh60c0000gn/T/ipykernel_84533/3031394758.py:8: FutureWarning: In a future version of pandas, a length 1 tuple will be returned when iterating over a groupby with a grouper equal to a list of length 1. Don't supply a list with a single grouper to avoid this warning.\n",
      "  for key, group in countiesDF :\n"
     ]
    },
    {
     "data": {
      "image/png": "[encoded data removed]",
      "text/plain": [
       "<Figure size 700x700 with 1 Axes>"
      ]
     },
     "metadata": {},
     "output_type": "display_data"
    }
   ],
   "source": [
    "# lets color code each county (colors assigned randomly)\n",
    "colors = {}\n",
    "for county in table2['Jurisdiction'].values:\n",
    "       colors[county] = (np.random.random(),np.random.random(),np.random.random()) # R, G, B\n",
    "       \n",
    "fig, ax = plt.subplots(figsize=(7, 7))\n",
    "# now, we want to iterate through the df by county\n",
    "for key, group in countiesDF :\n",
    "       # key = group name (aka county name); group = subset of df where jurisdiction == key \n",
    "       # first, plotting values for the current county \n",
    "       group.plot(ax = ax, kind='scatter', y='Value', x='Year', label=key,\n",
    "                     color= colors[key])\n",
    "       # second, adding the regression line previously for the current county\n",
    "       x = group['Year'].to_numpy().reshape(-1,1) # necessary shape for plotting\n",
    "       plt.plot( x, pred[key], color= colors[key])\n",
    "\n",
    "plt.legend(bbox_to_anchor = (1.35, 1) ,loc = \"upper right\", borderaxespad = 0)\n",
    "plt.xticks(rotation = 45, ha = 'right') #so that the x-axis labels dont merge\n",
    "plt.xlabel('Year')\n",
    "plt.ylabel('Affordable Housing Value')\n",
    "plt.title(\"Affordable Housing By County From 2010-2020\") ## didnt work?\n",
    "plt.show()"
   ]
  },
  {
   "cell_type": "markdown",
   "metadata": {},
   "source": [
    "Initial thoughts based off graph:\n",
    "\n",
    "1. There appears to be a direct, linear relationship between year and the affordable housing value. For some counties and some years the rate of change betwen years is drastic while for others its more subtle, but all in all, year does affect the affordable housing value in I would guess a statistically significant way.\n",
    "\n",
    "2. There's a large variance in the affordable housing value across all counties. \n"
   ]
  },
  {
   "cell_type": "code",
   "execution_count": 212,
   "metadata": {},
   "outputs": [
    {
     "data": {
      "text/html": [
       "<div>\n",
       "<style scoped>\n",
       "    .dataframe tbody tr th:only-of-type {\n",
       "        vertical-align: middle;\n",
       "    }\n",
       "\n",
       "    .dataframe tbody tr th {\n",
       "        vertical-align: top;\n",
       "    }\n",
       "\n",
       "    .dataframe thead th {\n",
       "        text-align: right;\n",
       "    }\n",
       "</style>\n",
       "<table border=\"1\" class=\"dataframe\">\n",
       "  <thead>\n",
       "    <tr style=\"text-align: right;\">\n",
       "      <th></th>\n",
       "      <th>Jurisdiction</th>\n",
       "      <th>Value</th>\n",
       "      <th>Year</th>\n",
       "    </tr>\n",
       "  </thead>\n",
       "  <tbody>\n",
       "    <tr>\n",
       "      <th>1</th>\n",
       "      <td>Allegany</td>\n",
       "      <td>98.2</td>\n",
       "      <td>2016</td>\n",
       "    </tr>\n",
       "    <tr>\n",
       "      <th>2</th>\n",
       "      <td>Anne Arundel</td>\n",
       "      <td>28.5</td>\n",
       "      <td>2016</td>\n",
       "    </tr>\n",
       "    <tr>\n",
       "      <th>3</th>\n",
       "      <td>Baltimore City</td>\n",
       "      <td>76.4</td>\n",
       "      <td>2016</td>\n",
       "    </tr>\n",
       "    <tr>\n",
       "      <th>4</th>\n",
       "      <td>Baltimore County</td>\n",
       "      <td>64.1</td>\n",
       "      <td>2016</td>\n",
       "    </tr>\n",
       "    <tr>\n",
       "      <th>5</th>\n",
       "      <td>Calvert</td>\n",
       "      <td>49.5</td>\n",
       "      <td>2016</td>\n",
       "    </tr>\n",
       "  </tbody>\n",
       "</table>\n",
       "</div>"
      ],
      "text/plain": [
       "       Jurisdiction  Value  Year\n",
       "1          Allegany   98.2  2016\n",
       "2      Anne Arundel   28.5  2016\n",
       "3    Baltimore City   76.4  2016\n",
       "4  Baltimore County   64.1  2016\n",
       "5           Calvert   49.5  2016"
      ]
     },
     "execution_count": 212,
     "metadata": {},
     "output_type": "execute_result"
    }
   ],
   "source": [
    "table2 = table2.drop(table2[table2['Jurisdiction'] == 'State'].index)\n",
    "table2.head()"
   ]
  },
  {
   "cell_type": "code",
   "execution_count": 213,
   "metadata": {},
   "outputs": [
    {
     "data": {
      "text/html": [
       "<div>\n",
       "<style scoped>\n",
       "    .dataframe tbody tr th:only-of-type {\n",
       "        vertical-align: middle;\n",
       "    }\n",
       "\n",
       "    .dataframe tbody tr th {\n",
       "        vertical-align: top;\n",
       "    }\n",
       "\n",
       "    .dataframe thead th {\n",
       "        text-align: right;\n",
       "    }\n",
       "</style>\n",
       "<table border=\"1\" class=\"dataframe\">\n",
       "  <thead>\n",
       "    <tr style=\"text-align: right;\">\n",
       "      <th></th>\n",
       "      <th>Jurisdiction</th>\n",
       "      <th>Value</th>\n",
       "      <th>Year</th>\n",
       "      <th>Cost of Living Index</th>\n",
       "    </tr>\n",
       "  </thead>\n",
       "  <tbody>\n",
       "    <tr>\n",
       "      <th>0</th>\n",
       "      <td>Allegany</td>\n",
       "      <td>98.2</td>\n",
       "      <td>2016</td>\n",
       "      <td>84.9</td>\n",
       "    </tr>\n",
       "    <tr>\n",
       "      <th>1</th>\n",
       "      <td>Anne Arundel</td>\n",
       "      <td>28.5</td>\n",
       "      <td>2016</td>\n",
       "      <td>119.6</td>\n",
       "    </tr>\n",
       "    <tr>\n",
       "      <th>2</th>\n",
       "      <td>Baltimore City</td>\n",
       "      <td>76.4</td>\n",
       "      <td>2016</td>\n",
       "      <td>101.3</td>\n",
       "    </tr>\n",
       "    <tr>\n",
       "      <th>3</th>\n",
       "      <td>Baltimore County</td>\n",
       "      <td>64.1</td>\n",
       "      <td>2016</td>\n",
       "      <td>109.9</td>\n",
       "    </tr>\n",
       "    <tr>\n",
       "      <th>4</th>\n",
       "      <td>Calvert</td>\n",
       "      <td>49.5</td>\n",
       "      <td>2016</td>\n",
       "      <td>121.7</td>\n",
       "    </tr>\n",
       "    <tr>\n",
       "      <th>...</th>\n",
       "      <td>...</td>\n",
       "      <td>...</td>\n",
       "      <td>...</td>\n",
       "      <td>...</td>\n",
       "    </tr>\n",
       "    <tr>\n",
       "      <th>260</th>\n",
       "      <td>Somerset</td>\n",
       "      <td>90.1</td>\n",
       "      <td>2020</td>\n",
       "      <td>86.2</td>\n",
       "    </tr>\n",
       "    <tr>\n",
       "      <th>261</th>\n",
       "      <td>Talbot</td>\n",
       "      <td>38.7</td>\n",
       "      <td>2020</td>\n",
       "      <td>100.9</td>\n",
       "    </tr>\n",
       "    <tr>\n",
       "      <th>262</th>\n",
       "      <td>Washington</td>\n",
       "      <td>79.2</td>\n",
       "      <td>2020</td>\n",
       "      <td>97.7</td>\n",
       "    </tr>\n",
       "    <tr>\n",
       "      <th>263</th>\n",
       "      <td>Wicomico</td>\n",
       "      <td>91.8</td>\n",
       "      <td>2020</td>\n",
       "      <td>98.6</td>\n",
       "    </tr>\n",
       "    <tr>\n",
       "      <th>264</th>\n",
       "      <td>Worcester</td>\n",
       "      <td>74.2</td>\n",
       "      <td>2020</td>\n",
       "      <td>99.1</td>\n",
       "    </tr>\n",
       "  </tbody>\n",
       "</table>\n",
       "<p>265 rows × 4 columns</p>\n",
       "</div>"
      ],
      "text/plain": [
       "         Jurisdiction  Value  Year  Cost of Living Index\n",
       "0            Allegany   98.2  2016                  84.9\n",
       "1        Anne Arundel   28.5  2016                 119.6\n",
       "2      Baltimore City   76.4  2016                 101.3\n",
       "3    Baltimore County   64.1  2016                 109.9\n",
       "4             Calvert   49.5  2016                 121.7\n",
       "..                ...    ...   ...                   ...\n",
       "260          Somerset   90.1  2020                  86.2\n",
       "261            Talbot   38.7  2020                 100.9\n",
       "262        Washington   79.2  2020                  97.7\n",
       "263          Wicomico   91.8  2020                  98.6\n",
       "264         Worcester   74.2  2020                  99.1\n",
       "\n",
       "[265 rows x 4 columns]"
      ]
     },
     "execution_count": 213,
     "metadata": {},
     "output_type": "execute_result"
    }
   ],
   "source": [
    "# lets combine some of the columns from table1 to table2\n",
    "table1 = table1.rename(columns = {'County': 'Jurisdiction'})\n",
    "table2 = table2.merge(table1[['Jurisdiction','Cost of Living Index']], on = 'Jurisdiction', how = 'left')\n",
    "table2"
   ]
  },
  {
   "cell_type": "markdown",
   "metadata": {},
   "source": [
    "## Analysis "
   ]
  },
  {
   "cell_type": "code",
   "execution_count": 214,
   "metadata": {},
   "outputs": [
    {
     "name": "stdout",
     "output_type": "stream",
     "text": [
      "                            OLS Regression Results                            \n",
      "==============================================================================\n",
      "Dep. Variable:             Q(\"Value\")   R-squared:                       0.015\n",
      "Model:                            OLS   Adj. R-squared:                  0.011\n",
      "Method:                 Least Squares   F-statistic:                     4.041\n",
      "Date:                Wed, 31 Jan 2024   Prob (F-statistic):             0.0454\n",
      "Time:                        11:28:14   Log-Likelihood:                -1179.1\n",
      "No. Observations:                 265   AIC:                             2362.\n",
      "Df Residuals:                     263   BIC:                             2369.\n",
      "Df Model:                           1                                         \n",
      "Covariance Type:            nonrobust                                         \n",
      "==============================================================================\n",
      "                 coef    std err          t      P>|t|      [0.025      0.975]\n",
      "------------------------------------------------------------------------------\n",
      "Intercept  -1583.9518    815.021     -1.943      0.053   -3188.748      20.844\n",
      "Year           0.8131      0.404      2.010      0.045       0.017       1.609\n",
      "==============================================================================\n",
      "Omnibus:                       34.800   Durbin-Watson:                   2.480\n",
      "Prob(Omnibus):                  0.000   Jarque-Bera (JB):               14.250\n",
      "Skew:                           0.350   Prob(JB):                     0.000805\n",
      "Kurtosis:                       2.106   Cond. No.                     1.29e+06\n",
      "==============================================================================\n",
      "\n",
      "Notes:\n",
      "[1] Standard Errors assume that the covariance matrix of the errors is correctly specified.\n",
      "[2] The condition number is large, 1.29e+06. This might indicate that there are\n",
      "strong multicollinearity or other numerical problems.\n"
     ]
    }
   ],
   "source": [
    "res = smf.ols(formula = \"Q(\\\"Value\\\") ~ Year\", data = table2).fit()\n",
    "print(res.summary())"
   ]
  },
  {
   "cell_type": "markdown",
   "metadata": {},
   "source": [
    "It looks like 'Year' is borderline statistically significant in causing the change in values across counties each year given that the p-value is barely less than/equal to 0.05. Additionially, the F-statistic is objectively low, especially in comparison to the regressions we're doing next.\n",
    "\n",
    "\n",
    "This coincides with the results from the graph above where for some counties, the value varied significantly between years, whereas for others, not so much. \n",
    "\n",
    "From this regression alone, Im willing to conceide that year does affect the affordable housing value, but not too greatly."
   ]
  },
  {
   "cell_type": "code",
   "execution_count": 215,
   "metadata": {},
   "outputs": [
    {
     "name": "stdout",
     "output_type": "stream",
     "text": [
      "                            OLS Regression Results                            \n",
      "==============================================================================\n",
      "Dep. Variable:             Q(\"Value\")   R-squared:                       0.907\n",
      "Model:                            OLS   Adj. R-squared:                  0.898\n",
      "Method:                 Least Squares   F-statistic:                     102.3\n",
      "Date:                Wed, 31 Jan 2024   Prob (F-statistic):          1.65e-110\n",
      "Time:                        11:33:03   Log-Likelihood:                -866.34\n",
      "No. Observations:                 265   AIC:                             1781.\n",
      "Df Residuals:                     241   BIC:                             1867.\n",
      "Df Model:                          23                                         \n",
      "Covariance Type:            nonrobust                                         \n",
      "====================================================================================================\n",
      "                                       coef    std err          t      P>|t|      [0.025      0.975]\n",
      "----------------------------------------------------------------------------------------------------\n",
      "Intercept                           97.0182      2.011     48.237      0.000      93.056     100.980\n",
      "Jurisdiction[T.Anne Arundel]       -66.9091      2.844    -23.523      0.000     -72.512     -61.306\n",
      "Jurisdiction[T.Baltimore City]     -15.2273      2.844     -5.353      0.000     -20.830      -9.624\n",
      "Jurisdiction[T.Baltimore County]   -35.8909      2.844    -12.618      0.000     -41.494     -30.288\n",
      "Jurisdiction[T.Calvert]            -47.8636      2.844    -16.827      0.000     -53.467     -42.261\n",
      "Jurisdiction[T.Caroline]           -23.2909      2.844     -8.188      0.000     -28.894     -17.688\n",
      "Jurisdiction[T.Carroll]            -65.8455      2.844    -23.149      0.000     -71.448     -60.242\n",
      "Jurisdiction[T.Cecil]              -31.6273      2.844    -11.119      0.000     -37.230     -26.024\n",
      "Jurisdiction[T.Charles]            -64.4727      2.844    -22.667      0.000     -70.076     -58.870\n",
      "Jurisdiction[T.Dorchester]         -32.0727      2.844    -11.276      0.000     -37.676     -26.470\n",
      "Jurisdiction[T.Frederick]          -55.9273      2.844    -19.662      0.000     -61.530     -50.324\n",
      "Jurisdiction[T.Garrett]            -45.4545      2.844    -15.980      0.000     -51.058     -39.852\n",
      "Jurisdiction[T.Harford]            -51.8364      2.844    -18.224      0.000     -57.439     -46.233\n",
      "Jurisdiction[T.Howard]             -70.7818      2.844    -24.885      0.000     -76.385     -65.179\n",
      "Jurisdiction[T.Kent]               -43.6000      2.844    -15.328      0.000     -49.203     -37.997\n",
      "Jurisdiction[T.Montgomery]         -62.9545      2.844    -22.133      0.000     -68.558     -57.352\n",
      "Jurisdiction[T.Prince George's]    -43.2727      2.844    -15.213      0.000     -48.876     -37.670\n",
      "Jurisdiction[T.Queen Anne's]       -66.0727      2.844    -23.229      0.000     -71.676     -60.470\n",
      "Jurisdiction[T.Saint Mary's]       -50.8182      2.844    -17.866      0.000     -56.421     -45.215\n",
      "Jurisdiction[T.Somerset]           -12.6455      2.844     -4.446      0.000     -18.248      -7.042\n",
      "Jurisdiction[T.Talbot]             -62.0273      2.844    -21.807      0.000     -67.630     -56.424\n",
      "Jurisdiction[T.Washington]         -24.8364      2.844     -8.732      0.000     -30.439     -19.233\n",
      "Jurisdiction[T.Wicomico]           -11.7000      2.844     -4.113      0.000     -17.303      -6.097\n",
      "Jurisdiction[T.Worcester]          -38.4182      2.784    -13.797      0.000     -43.903     -32.933\n",
      "==============================================================================\n",
      "Omnibus:                       18.728   Durbin-Watson:                   1.226\n",
      "Prob(Omnibus):                  0.000   Jarque-Bera (JB):               39.233\n",
      "Skew:                          -0.339   Prob(JB):                     3.02e-09\n",
      "Kurtosis:                       4.759   Cond. No.                         25.0\n",
      "==============================================================================\n",
      "\n",
      "Notes:\n",
      "[1] Standard Errors assume that the covariance matrix of the errors is correctly specified.\n"
     ]
    }
   ],
   "source": [
    "res = smf.ols(formula= \"Q(\\\"Value\\\") ~ Jurisdiction \", data= table2).fit()\n",
    "print(res.summary())"
   ]
  },
  {
   "cell_type": "markdown",
   "metadata": {},
   "source": []
  },
  {
   "cell_type": "code",
   "execution_count": 216,
   "metadata": {},
   "outputs": [
    {
     "name": "stdout",
     "output_type": "stream",
     "text": [
      "                            OLS Regression Results                            \n",
      "==============================================================================\n",
      "Dep. Variable:             Q(\"Value\")   R-squared:                       0.922\n",
      "Model:                            OLS   Adj. R-squared:                  0.914\n",
      "Method:                 Least Squares   F-statistic:                     118.5\n",
      "Date:                Wed, 31 Jan 2024   Prob (F-statistic):          1.11e-118\n",
      "Time:                        11:33:29   Log-Likelihood:                -842.79\n",
      "No. Observations:                 265   AIC:                             1736.\n",
      "Df Residuals:                     240   BIC:                             1825.\n",
      "Df Model:                          24                                         \n",
      "Covariance Type:            nonrobust                                         \n",
      "=======================================================================================================\n",
      "                                          coef    std err          t      P>|t|      [0.025      0.975]\n",
      "-------------------------------------------------------------------------------------------------------\n",
      "Intercept                           -1580.7951    239.822     -6.592      0.000   -2053.219   -1108.371\n",
      "Year:Jurisdiction[Allegany]             0.8327      0.119      6.996      0.000       0.598       1.067\n",
      "Year:Jurisdiction[Anne Arundel]         0.7995      0.119      6.717      0.000       0.565       1.034\n",
      "Year:Jurisdiction[Baltimore City]       0.8251      0.119      6.932      0.000       0.591       1.060\n",
      "Year:Jurisdiction[Baltimore County]     0.8148      0.119      6.846      0.000       0.580       1.049\n",
      "Year:Jurisdiction[Calvert]              0.8089      0.119      6.796      0.000       0.574       1.043\n",
      "Year:Jurisdiction[Caroline]             0.8211      0.119      6.899      0.000       0.587       1.056\n",
      "Year:Jurisdiction[Carroll]              0.8000      0.119      6.721      0.000       0.566       1.034\n",
      "Year:Jurisdiction[Cecil]                0.8170      0.119      6.864      0.000       0.583       1.051\n",
      "Year:Jurisdiction[Charles]              0.8007      0.119      6.727      0.000       0.566       1.035\n",
      "Year:Jurisdiction[Dorchester]           0.8167      0.119      6.862      0.000       0.582       1.051\n",
      "Year:Jurisdiction[Frederick]            0.8049      0.119      6.763      0.000       0.570       1.039\n",
      "Year:Jurisdiction[Garrett]              0.8101      0.119      6.806      0.000       0.576       1.045\n",
      "Year:Jurisdiction[Harford]              0.8069      0.119      6.780      0.000       0.572       1.041\n",
      "Year:Jurisdiction[Howard]               0.7975      0.119      6.701      0.000       0.563       1.032\n",
      "Year:Jurisdiction[Kent]                 0.8110      0.119      6.814      0.000       0.577       1.045\n",
      "Year:Jurisdiction[Montgomery]           0.8014      0.119      6.733      0.000       0.567       1.036\n",
      "Year:Jurisdiction[Prince George's]      0.8112      0.119      6.815      0.000       0.577       1.046\n",
      "Year:Jurisdiction[Queen Anne's]         0.7999      0.119      6.720      0.000       0.565       1.034\n",
      "Year:Jurisdiction[Saint Mary's]         0.8074      0.119      6.784      0.000       0.573       1.042\n",
      "Year:Jurisdiction[Somerset]             0.8264      0.119      6.943      0.000       0.592       1.061\n",
      "Year:Jurisdiction[Talbot]               0.8019      0.119      6.737      0.000       0.567       1.036\n",
      "Year:Jurisdiction[Washington]           0.8203      0.119      6.892      0.000       0.586       1.055\n",
      "Year:Jurisdiction[Wicomico]             0.8269      0.119      6.947      0.000       0.592       1.061\n",
      "Year:Jurisdiction[Worcester]            0.8136      0.119      6.836      0.000       0.579       1.048\n",
      "==============================================================================\n",
      "Omnibus:                       10.730   Durbin-Watson:                   1.456\n",
      "Prob(Omnibus):                  0.005   Jarque-Bera (JB):               14.582\n",
      "Skew:                          -0.304   Prob(JB):                     0.000682\n",
      "Kurtosis:                       3.976   Cond. No.                     2.74e+05\n",
      "==============================================================================\n",
      "\n",
      "Notes:\n",
      "[1] Standard Errors assume that the covariance matrix of the errors is correctly specified.\n",
      "[2] The condition number is large, 2.74e+05. This might indicate that there are\n",
      "strong multicollinearity or other numerical problems.\n"
     ]
    }
   ],
   "source": [
    "res = smf.ols(formula= \"Q(\\\"Value\\\") ~ Year : Jurisdiction \", data= table2).fit()\n",
    "print(res.summary())"
   ]
  },
  {
   "cell_type": "markdown",
   "metadata": {},
   "source": []
  },
  {
   "cell_type": "code",
   "execution_count": 217,
   "metadata": {},
   "outputs": [
    {
     "name": "stdout",
     "output_type": "stream",
     "text": [
      "                                OLS Regression Results                               \n",
      "=====================================================================================\n",
      "Dep. Variable:     Q(\"Cost of Living Index\")   R-squared:                       0.521\n",
      "Model:                                   OLS   Adj. R-squared:                  0.519\n",
      "Method:                        Least Squares   F-statistic:                     273.9\n",
      "Date:                       Wed, 31 Jan 2024   Prob (F-statistic):           3.81e-42\n",
      "Time:                               11:33:43   Log-Likelihood:                -925.93\n",
      "No. Observations:                        254   AIC:                             1856.\n",
      "Df Residuals:                            252   BIC:                             1863.\n",
      "Df Model:                                  1                                         \n",
      "Covariance Type:                   nonrobust                                         \n",
      "==============================================================================\n",
      "                 coef    std err          t      P>|t|      [0.025      0.975]\n",
      "------------------------------------------------------------------------------\n",
      "Intercept    132.1570      1.618     81.690      0.000     128.971     135.343\n",
      "Value         -0.4562      0.028    -16.551      0.000      -0.510      -0.402\n",
      "==============================================================================\n",
      "Omnibus:                        5.310   Durbin-Watson:                   1.911\n",
      "Prob(Omnibus):                  0.070   Jarque-Bera (JB):                4.849\n",
      "Skew:                          -0.274   Prob(JB):                       0.0885\n",
      "Kurtosis:                       2.602   Cond. No.                         163.\n",
      "==============================================================================\n",
      "\n",
      "Notes:\n",
      "[1] Standard Errors assume that the covariance matrix of the errors is correctly specified.\n"
     ]
    }
   ],
   "source": [
    "res = smf.ols(formula= \"Q(\\\"Cost of Living Index\\\") ~ Value\", data= table2).fit()\n",
    "print(res.summary())"
   ]
  },
  {
   "cell_type": "markdown",
   "metadata": {},
   "source": []
  },
  {
   "cell_type": "markdown",
   "metadata": {},
   "source": [
    "Loss using OLS"
   ]
  },
  {
   "cell_type": "markdown",
   "metadata": {},
   "source": [
    "Is there a connection between how a counties cost of living index and their affordable housing value?"
   ]
  }
 ],
 "metadata": {
  "kernelspec": {
   "display_name": "Python 3.11.1 64-bit",
   "language": "python",
   "name": "python3"
  },
  "language_info": {
   "codemirror_mode": {
    "name": "ipython",
    "version": 3
   },
   "file_extension": ".py",
   "mimetype": "text/x-python",
   "name": "python",
   "nbconvert_exporter": "python",
   "pygments_lexer": "ipython3",
   "version": "3.11.1"
  },
  "orig_nbformat": 4,
  "vscode": {
   "interpreter": {
    "hash": "aee8b7b246df8f9039afb4144a1f6fd8d2ca17a180786b69acc140d282b71a49"
   }
  }
 },
 "nbformat": 4,
 "nbformat_minor": 2
}
